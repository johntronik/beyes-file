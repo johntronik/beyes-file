{
  "nbformat": 4,
  "nbformat_minor": 0,
  "metadata": {
    "colab": {
      "name": "5.5. テンソル分解.ipynb",
      "provenance": [],
      "collapsed_sections": [],
      "authorship_tag": "ABX9TyOG25MBj2dBZgAFh1gp74SS",
      "include_colab_link": true
    },
    "kernelspec": {
      "name": "python3",
      "display_name": "Python 3"
    },
    "widgets": {
      "application/vnd.jupyter.widget-state+json": {
        "dcfa0aa40be9418d9a93c29a3d8cd17d": {
          "model_module": "@jupyter-widgets/controls",
          "model_name": "HBoxModel",
          "state": {
            "_view_name": "HBoxView",
            "_dom_classes": [],
            "_model_name": "HBoxModel",
            "_view_module": "@jupyter-widgets/controls",
            "_model_module_version": "1.5.0",
            "_view_count": null,
            "_view_module_version": "1.5.0",
            "box_style": "",
            "layout": "IPY_MODEL_e9f591cc6821476480313fb83ad2f414",
            "_model_module": "@jupyter-widgets/controls",
            "children": [
              "IPY_MODEL_fe7065c7db274ded9ee4edef8709b8f3",
              "IPY_MODEL_05ec702d7a0d4fec85f49b32358bf479"
            ]
          }
        },
        "e9f591cc6821476480313fb83ad2f414": {
          "model_module": "@jupyter-widgets/base",
          "model_name": "LayoutModel",
          "state": {
            "_view_name": "LayoutView",
            "grid_template_rows": null,
            "right": null,
            "justify_content": null,
            "_view_module": "@jupyter-widgets/base",
            "overflow": null,
            "_model_module_version": "1.2.0",
            "_view_count": null,
            "flex_flow": null,
            "width": null,
            "min_width": null,
            "border": null,
            "align_items": null,
            "bottom": null,
            "_model_module": "@jupyter-widgets/base",
            "top": null,
            "grid_column": null,
            "overflow_y": null,
            "overflow_x": null,
            "grid_auto_flow": null,
            "grid_area": null,
            "grid_template_columns": null,
            "flex": null,
            "_model_name": "LayoutModel",
            "justify_items": null,
            "grid_row": null,
            "max_height": null,
            "align_content": null,
            "visibility": null,
            "align_self": null,
            "height": null,
            "min_height": null,
            "padding": null,
            "grid_auto_rows": null,
            "grid_gap": null,
            "max_width": null,
            "order": null,
            "_view_module_version": "1.2.0",
            "grid_template_areas": null,
            "object_position": null,
            "object_fit": null,
            "grid_auto_columns": null,
            "margin": null,
            "display": null,
            "left": null
          }
        },
        "fe7065c7db274ded9ee4edef8709b8f3": {
          "model_module": "@jupyter-widgets/controls",
          "model_name": "IntProgressModel",
          "state": {
            "_view_name": "ProgressView",
            "style": "IPY_MODEL_84ff863526a542078b5ef7f3b9328731",
            "_dom_classes": [],
            "description": "",
            "_model_name": "IntProgressModel",
            "bar_style": "success",
            "max": 299,
            "_view_module": "@jupyter-widgets/controls",
            "_model_module_version": "1.5.0",
            "value": 299,
            "_view_count": null,
            "_view_module_version": "1.5.0",
            "orientation": "horizontal",
            "min": 0,
            "description_tooltip": null,
            "_model_module": "@jupyter-widgets/controls",
            "layout": "IPY_MODEL_10816ba640aa4f00b5e0ca8bf18dd771"
          }
        },
        "05ec702d7a0d4fec85f49b32358bf479": {
          "model_module": "@jupyter-widgets/controls",
          "model_name": "HTMLModel",
          "state": {
            "_view_name": "HTMLView",
            "style": "IPY_MODEL_77f9783290594570af846ae963d1e43c",
            "_dom_classes": [],
            "description": "",
            "_model_name": "HTMLModel",
            "placeholder": "​",
            "_view_module": "@jupyter-widgets/controls",
            "_model_module_version": "1.5.0",
            "value": "100% 299/299 [00:10&lt;00:00, 30.14it/s]",
            "_view_count": null,
            "_view_module_version": "1.5.0",
            "description_tooltip": null,
            "_model_module": "@jupyter-widgets/controls",
            "layout": "IPY_MODEL_be1f6c312a7743a7a6a1c072c7557593"
          }
        },
        "84ff863526a542078b5ef7f3b9328731": {
          "model_module": "@jupyter-widgets/controls",
          "model_name": "ProgressStyleModel",
          "state": {
            "_view_name": "StyleView",
            "_model_name": "ProgressStyleModel",
            "description_width": "",
            "_view_module": "@jupyter-widgets/base",
            "_model_module_version": "1.5.0",
            "_view_count": null,
            "_view_module_version": "1.2.0",
            "bar_color": null,
            "_model_module": "@jupyter-widgets/controls"
          }
        },
        "10816ba640aa4f00b5e0ca8bf18dd771": {
          "model_module": "@jupyter-widgets/base",
          "model_name": "LayoutModel",
          "state": {
            "_view_name": "LayoutView",
            "grid_template_rows": null,
            "right": null,
            "justify_content": null,
            "_view_module": "@jupyter-widgets/base",
            "overflow": null,
            "_model_module_version": "1.2.0",
            "_view_count": null,
            "flex_flow": null,
            "width": null,
            "min_width": null,
            "border": null,
            "align_items": null,
            "bottom": null,
            "_model_module": "@jupyter-widgets/base",
            "top": null,
            "grid_column": null,
            "overflow_y": null,
            "overflow_x": null,
            "grid_auto_flow": null,
            "grid_area": null,
            "grid_template_columns": null,
            "flex": null,
            "_model_name": "LayoutModel",
            "justify_items": null,
            "grid_row": null,
            "max_height": null,
            "align_content": null,
            "visibility": null,
            "align_self": null,
            "height": null,
            "min_height": null,
            "padding": null,
            "grid_auto_rows": null,
            "grid_gap": null,
            "max_width": null,
            "order": null,
            "_view_module_version": "1.2.0",
            "grid_template_areas": null,
            "object_position": null,
            "object_fit": null,
            "grid_auto_columns": null,
            "margin": null,
            "display": null,
            "left": null
          }
        },
        "77f9783290594570af846ae963d1e43c": {
          "model_module": "@jupyter-widgets/controls",
          "model_name": "DescriptionStyleModel",
          "state": {
            "_view_name": "StyleView",
            "_model_name": "DescriptionStyleModel",
            "description_width": "",
            "_view_module": "@jupyter-widgets/base",
            "_model_module_version": "1.5.0",
            "_view_count": null,
            "_view_module_version": "1.2.0",
            "_model_module": "@jupyter-widgets/controls"
          }
        },
        "be1f6c312a7743a7a6a1c072c7557593": {
          "model_module": "@jupyter-widgets/base",
          "model_name": "LayoutModel",
          "state": {
            "_view_name": "LayoutView",
            "grid_template_rows": null,
            "right": null,
            "justify_content": null,
            "_view_module": "@jupyter-widgets/base",
            "overflow": null,
            "_model_module_version": "1.2.0",
            "_view_count": null,
            "flex_flow": null,
            "width": null,
            "min_width": null,
            "border": null,
            "align_items": null,
            "bottom": null,
            "_model_module": "@jupyter-widgets/base",
            "top": null,
            "grid_column": null,
            "overflow_y": null,
            "overflow_x": null,
            "grid_auto_flow": null,
            "grid_area": null,
            "grid_template_columns": null,
            "flex": null,
            "_model_name": "LayoutModel",
            "justify_items": null,
            "grid_row": null,
            "max_height": null,
            "align_content": null,
            "visibility": null,
            "align_self": null,
            "height": null,
            "min_height": null,
            "padding": null,
            "grid_auto_rows": null,
            "grid_gap": null,
            "max_width": null,
            "order": null,
            "_view_module_version": "1.2.0",
            "grid_template_areas": null,
            "object_position": null,
            "object_fit": null,
            "grid_auto_columns": null,
            "margin": null,
            "display": null,
            "left": null
          }
        },
        "485020ede88a49ad9d255a94d2923ca4": {
          "model_module": "@jupyter-widgets/controls",
          "model_name": "HBoxModel",
          "state": {
            "_view_name": "HBoxView",
            "_dom_classes": [],
            "_model_name": "HBoxModel",
            "_view_module": "@jupyter-widgets/controls",
            "_model_module_version": "1.5.0",
            "_view_count": null,
            "_view_module_version": "1.5.0",
            "box_style": "",
            "layout": "IPY_MODEL_15462094945543aba2e589fa294e83d1",
            "_model_module": "@jupyter-widgets/controls",
            "children": [
              "IPY_MODEL_851c8f2db75f45ccbae6a2bcd9889bdb",
              "IPY_MODEL_a7e89331986949c6a53036056f0d948e"
            ]
          }
        },
        "15462094945543aba2e589fa294e83d1": {
          "model_module": "@jupyter-widgets/base",
          "model_name": "LayoutModel",
          "state": {
            "_view_name": "LayoutView",
            "grid_template_rows": null,
            "right": null,
            "justify_content": null,
            "_view_module": "@jupyter-widgets/base",
            "overflow": null,
            "_model_module_version": "1.2.0",
            "_view_count": null,
            "flex_flow": null,
            "width": null,
            "min_width": null,
            "border": null,
            "align_items": null,
            "bottom": null,
            "_model_module": "@jupyter-widgets/base",
            "top": null,
            "grid_column": null,
            "overflow_y": null,
            "overflow_x": null,
            "grid_auto_flow": null,
            "grid_area": null,
            "grid_template_columns": null,
            "flex": null,
            "_model_name": "LayoutModel",
            "justify_items": null,
            "grid_row": null,
            "max_height": null,
            "align_content": null,
            "visibility": null,
            "align_self": null,
            "height": null,
            "min_height": null,
            "padding": null,
            "grid_auto_rows": null,
            "grid_gap": null,
            "max_width": null,
            "order": null,
            "_view_module_version": "1.2.0",
            "grid_template_areas": null,
            "object_position": null,
            "object_fit": null,
            "grid_auto_columns": null,
            "margin": null,
            "display": null,
            "left": null
          }
        },
        "851c8f2db75f45ccbae6a2bcd9889bdb": {
          "model_module": "@jupyter-widgets/controls",
          "model_name": "IntProgressModel",
          "state": {
            "_view_name": "ProgressView",
            "style": "IPY_MODEL_bfe688f8ae4042058c65444576603a21",
            "_dom_classes": [],
            "description": "",
            "_model_name": "IntProgressModel",
            "bar_style": "success",
            "max": 99,
            "_view_module": "@jupyter-widgets/controls",
            "_model_module_version": "1.5.0",
            "value": 99,
            "_view_count": null,
            "_view_module_version": "1.5.0",
            "orientation": "horizontal",
            "min": 0,
            "description_tooltip": null,
            "_model_module": "@jupyter-widgets/controls",
            "layout": "IPY_MODEL_5fb588fc50dd489483018ec9b4bbdb50"
          }
        },
        "a7e89331986949c6a53036056f0d948e": {
          "model_module": "@jupyter-widgets/controls",
          "model_name": "HTMLModel",
          "state": {
            "_view_name": "HTMLView",
            "style": "IPY_MODEL_0113d3708d894d8c85fe7555b135461f",
            "_dom_classes": [],
            "description": "",
            "_model_name": "HTMLModel",
            "placeholder": "​",
            "_view_module": "@jupyter-widgets/controls",
            "_model_module_version": "1.5.0",
            "value": "100% 99/99 [10:59&lt;00:00,  6.59s/it]",
            "_view_count": null,
            "_view_module_version": "1.5.0",
            "description_tooltip": null,
            "_model_module": "@jupyter-widgets/controls",
            "layout": "IPY_MODEL_f32a0ba9e81a49a2bac64292e1c4be6b"
          }
        },
        "bfe688f8ae4042058c65444576603a21": {
          "model_module": "@jupyter-widgets/controls",
          "model_name": "ProgressStyleModel",
          "state": {
            "_view_name": "StyleView",
            "_model_name": "ProgressStyleModel",
            "description_width": "",
            "_view_module": "@jupyter-widgets/base",
            "_model_module_version": "1.5.0",
            "_view_count": null,
            "_view_module_version": "1.2.0",
            "bar_color": null,
            "_model_module": "@jupyter-widgets/controls"
          }
        },
        "5fb588fc50dd489483018ec9b4bbdb50": {
          "model_module": "@jupyter-widgets/base",
          "model_name": "LayoutModel",
          "state": {
            "_view_name": "LayoutView",
            "grid_template_rows": null,
            "right": null,
            "justify_content": null,
            "_view_module": "@jupyter-widgets/base",
            "overflow": null,
            "_model_module_version": "1.2.0",
            "_view_count": null,
            "flex_flow": null,
            "width": null,
            "min_width": null,
            "border": null,
            "align_items": null,
            "bottom": null,
            "_model_module": "@jupyter-widgets/base",
            "top": null,
            "grid_column": null,
            "overflow_y": null,
            "overflow_x": null,
            "grid_auto_flow": null,
            "grid_area": null,
            "grid_template_columns": null,
            "flex": null,
            "_model_name": "LayoutModel",
            "justify_items": null,
            "grid_row": null,
            "max_height": null,
            "align_content": null,
            "visibility": null,
            "align_self": null,
            "height": null,
            "min_height": null,
            "padding": null,
            "grid_auto_rows": null,
            "grid_gap": null,
            "max_width": null,
            "order": null,
            "_view_module_version": "1.2.0",
            "grid_template_areas": null,
            "object_position": null,
            "object_fit": null,
            "grid_auto_columns": null,
            "margin": null,
            "display": null,
            "left": null
          }
        },
        "0113d3708d894d8c85fe7555b135461f": {
          "model_module": "@jupyter-widgets/controls",
          "model_name": "DescriptionStyleModel",
          "state": {
            "_view_name": "StyleView",
            "_model_name": "DescriptionStyleModel",
            "description_width": "",
            "_view_module": "@jupyter-widgets/base",
            "_model_module_version": "1.5.0",
            "_view_count": null,
            "_view_module_version": "1.2.0",
            "_model_module": "@jupyter-widgets/controls"
          }
        },
        "f32a0ba9e81a49a2bac64292e1c4be6b": {
          "model_module": "@jupyter-widgets/base",
          "model_name": "LayoutModel",
          "state": {
            "_view_name": "LayoutView",
            "grid_template_rows": null,
            "right": null,
            "justify_content": null,
            "_view_module": "@jupyter-widgets/base",
            "overflow": null,
            "_model_module_version": "1.2.0",
            "_view_count": null,
            "flex_flow": null,
            "width": null,
            "min_width": null,
            "border": null,
            "align_items": null,
            "bottom": null,
            "_model_module": "@jupyter-widgets/base",
            "top": null,
            "grid_column": null,
            "overflow_y": null,
            "overflow_x": null,
            "grid_auto_flow": null,
            "grid_area": null,
            "grid_template_columns": null,
            "flex": null,
            "_model_name": "LayoutModel",
            "justify_items": null,
            "grid_row": null,
            "max_height": null,
            "align_content": null,
            "visibility": null,
            "align_self": null,
            "height": null,
            "min_height": null,
            "padding": null,
            "grid_auto_rows": null,
            "grid_gap": null,
            "max_width": null,
            "order": null,
            "_view_module_version": "1.2.0",
            "grid_template_areas": null,
            "object_position": null,
            "object_fit": null,
            "grid_auto_columns": null,
            "margin": null,
            "display": null,
            "left": null
          }
        }
      }
    }
  },
  "cells": [
    {
      "cell_type": "markdown",
      "metadata": {
        "id": "view-in-github",
        "colab_type": "text"
      },
      "source": [
        "<a href=\"https://colab.research.google.com/github/johntronik/hello-world/blob/master/5_5_%E3%83%86%E3%83%B3%E3%82%BD%E3%83%AB%E5%88%86%E8%A7%A3.ipynb\" target=\"_parent\"><img src=\"https://colab.research.google.com/assets/colab-badge.svg\" alt=\"Open In Colab\"/></a>"
      ]
    },
    {
      "cell_type": "markdown",
      "metadata": {
        "id": "zGHdiFQpKS6R",
        "colab_type": "text"
      },
      "source": [
        "# 5.5. テンソル分解\n",
        "* テンソル分解（tensor factorization）を紹介\n",
        "    1. 行列分解を使った場合の協調フィルタリング（collaborative filtering）\n",
        "    2. テンソルの場合に拡張し，推論アルゴリズムを導出"
      ]
    },
    {
      "cell_type": "markdown",
      "metadata": {
        "id": "xGOzN8AMKUdB",
        "colab_type": "text"
      },
      "source": [
        "# 1. 協調フィルタリング\n",
        "## 協調フィルタリングとは \n",
        "協調フィルタリングとは : 推薦技術\n",
        "* ユーザーの購買記録やレーティング（商品に対する評価値）データ  \n",
        "=> 次にユーザーがどのようなアイテムに興味をもつかを予測\n",
        "\n",
        "大別すると2タイプある\n",
        "* メモリベース\n",
        "    * 異なるユーザー i と j の間の類似度 Sim(i,j) を何らかの方法を使って計算することによって，ユーザーが興味をもちそうなアイテムを推薦する手法\n",
        "* モデルベース\n",
        "    * 線形次元削減 <- やった\n",
        "    * 非負値行列因子分解 <- やった\n",
        "    * テンソル分解 <- これから紹介"
      ]
    },
    {
      "cell_type": "markdown",
      "metadata": {
        "id": "RuEYCLBaKdeV",
        "colab_type": "text"
      },
      "source": [
        "## 2次元版のテンソル分解\n",
        "(5.172)式からなる生成モデルを考える。\n",
        "* $R_{n,m}$ をユーザー$n$のアイテム$m$に対するレーティング値\n",
        "* $U_{:,n}$ をユーザー$n$の特徴ベクトル\n",
        "* $V_{:,m}$ をアイテム$m$の特徴ベクトル\n",
        "\n",
        "R(n×m) ~ $U^T$(n×d) * V(d×m) (5.173)として(5.172)を行列で書き直すこともできる。\n",
        "\n",
        "これはn×m次元のRをd×n次元のUとd×m次元のVで近似することと等しい  \n",
        "-> 線形次元削減や非負値行列因子分解と一緒\n"
      ]
    },
    {
      "cell_type": "markdown",
      "metadata": {
        "id": "TNWW9YQGKE1c",
        "colab_type": "text"
      },
      "source": [
        "\n",
        "## 3次元版のテンソル分解\n",
        "* K:時間方向のインデックス により $R_{n,m,k}$と拡張する\n",
        "\n",
        "(5.174)式へと拡張する($S_{d,k}$を拡張)"
      ]
    },
    {
      "cell_type": "markdown",
      "metadata": {
        "id": "MRsr9a7UKSOU",
        "colab_type": "text"
      },
      "source": [
        "# 5.5.2 モデル\n",
        "カーネギーメロン大学の機械学習部?の論文\n",
        "reference:https://www.cs.cmu.edu/~jgc/publication/PublicationPDF/Temporal_Collaborative_Filtering_With_Bayesian_Probabilidtic_Tensor_Factorization.pdf\n",
        "\n",
        "* (5.175)式 : $R_{n,m,k}$ は$U_n$, $V_m$, $S_k$ の積を平均、λを分散にとる正規分布\n",
        "* (5.176)式 : $U_n$は正規分布\n",
        "* (5.177)式 : $V_m$は正規分布\n",
        "* (5.178)式 : $S_k$はマルコフ性を仮定した正規分布\n",
        "\n",
        "\n",
        "* (5.179)式 : (5.175)式のλはガンマ分布を設定\n",
        "* (5.180~182)式 : (5.176～178)式の平均、分散はガウスウィシャート分布\n",
        "\n",
        "# 5.5.3 変分推論\n",
        "(5.185)式 : 変分推論で(5.184)式を解いていく\n",
        "\n",
        "# 5.5.4 欠損値の補完\n",
        "(5.225)式 : 線形次元削減の欠損値補完をそのまま適用できる"
      ]
    },
    {
      "cell_type": "code",
      "metadata": {
        "id": "Q1higQ9GKmMA",
        "colab_type": "code",
        "colab": {}
      },
      "source": [
        ""
      ],
      "execution_count": 0,
      "outputs": []
    },
    {
      "cell_type": "markdown",
      "metadata": {
        "id": "sbDtGSGvKmuW",
        "colab_type": "text"
      },
      "source": [
        "2次元版のテンソル分解 実装"
      ]
    },
    {
      "cell_type": "code",
      "metadata": {
        "id": "16fFcwFlaF1w",
        "colab_type": "code",
        "colab": {
          "base_uri": "https://localhost:8080/",
          "height": 34
        },
        "outputId": "23022c2a-3e59-4c33-8a24-b4a7db46ea2b"
      },
      "source": [
        "# データ準備\n",
        "import pandas as pd\n",
        "from tqdm import tqdm_notebook\n",
        "import numpy as np\n",
        "from numpy.linalg import inv\n",
        "from numpy.random import multivariate_normal\n",
        "from scipy.stats import wishart\n",
        "from scipy.sparse import lil_matrix, coo_matrix\n",
        "\n",
        "# toy data\n",
        "r_origin = np.array([\n",
        "    [0, 0, 7],\n",
        "    [0, 1, 6],\n",
        "#    [0, 2, 7],\n",
        "    [0, 3, 4],\n",
        "    [0, 4, 5],\n",
        "    [0, 5, 4],\n",
        "    [1, 0, 6],\n",
        "#    [1, 1, 7],\n",
        "    [1, 3, 4],\n",
        "    [1, 4, 3],\n",
        "    [1, 5, 4],\n",
        "    [2, 1, 3],\n",
        "    [2, 2, 3],\n",
        "    [2, 3, 1],\n",
        "    [2, 4, 1],\n",
        "    [3, 0, 1],\n",
        "    [3, 1, 2],\n",
        "    [3, 2, 2],\n",
        "    [3, 3, 3],\n",
        "#    [3, 4, 3],\n",
        "    [3, 5, 4],\n",
        "    [4, 0, 1],\n",
        "    [4, 2, 1],\n",
        "#    [4, 3, 2],\n",
        "    [4, 4, 3],\n",
        "    [4, 5, 3]\n",
        "])\n",
        "\n",
        "# movie-lens data\n",
        "names = ['user_id','item_id','rating','timestamp']\n",
        "r_origin = pd.read_table('http://files.grouplens.org/datasets/movielens/ml-100k/u.data', names=names)#.values\n",
        "r_origin = r_origin[(r_origin.user_id<100)&(r_origin.item_id<500)].values\n",
        "\n",
        "r = coo_matrix((r_origin[:, 2], (r_origin[:, 0], r_origin[:, 1])))\n",
        "r = lil_matrix(r)\n",
        "r.shape"
      ],
      "execution_count": 217,
      "outputs": [
        {
          "output_type": "execute_result",
          "data": {
            "text/plain": [
              "(100, 500)"
            ]
          },
          "metadata": {
            "tags": []
          },
          "execution_count": 217
        }
      ]
    },
    {
      "cell_type": "code",
      "metadata": {
        "id": "4EcDUJlkZ-1Z",
        "colab_type": "code",
        "colab": {}
      },
      "source": [
        "def bpmf_gibbs_sampling(R, D, n_sample):\n",
        "    # 初期値(BPMFの論文と同じ)\n",
        "    N,M = R.shape\n",
        "    U = np.zeros((n_sample, N, D))\n",
        "    V = np.zeros((n_sample, D, M))\n",
        "    U[0, :, :] = np.random.rand(N, D)\n",
        "    V[0, :, :] = np.random.rand(D, M)\n",
        "\n",
        "    beta0 = 2\n",
        "    mu0 = 0\n",
        "    nu0 = D\n",
        "    W0 = np.identity(D)\n",
        "    alpha = 2\n",
        "\n",
        "    for t_ in tqdm_notebook(range(n_sample - 1)):\n",
        "        # sample lam_u\n",
        "        S_bar = np.sum([np.outer(U[t_, i, :], U[t_, i, :].T) for i in range(N)], axis=0) / N\n",
        "        U_bar = np.sum(U[t_], axis=0) / N\n",
        "        W0_ast = inv(inv(W0) + N * S_bar +\n",
        "                     (beta0 * N / (beta0 + N)) * np.outer(mu0 - U_bar, (mu0 - U_bar).T))\n",
        "        lam_u = wishart.rvs(df=nu0 + N, scale=W0_ast)\n",
        "\n",
        "        # sample mu_u\n",
        "        mu0_ast =(beta0 * mu0 + N * U_bar) / (beta0 + N)\n",
        "        mu_u = multivariate_normal(mu0_ast, inv((beta0 + N) * lam_u))\n",
        "\n",
        "        # sample lam_v\n",
        "        S_bar = np.sum([np.outer(V[t_, :, j], V[t_, :, j].T) for j in range(M)], axis=0) / M\n",
        "        V_bar = np.sum(V[t_], axis=1) / M\n",
        "        W0_ast = inv(inv(W0) + M * S_bar +\n",
        "                     (beta0 * M / (beta0 + M)) * np.outer(mu0 - V_bar, (mu0 - V_bar).T))\n",
        "        lam_v = wishart.rvs(df=nu0 + M, scale=W0_ast)\n",
        "\n",
        "        # sample mu_v\n",
        "        mu0_ast = (beta0 * mu0 + M * V_bar) / (beta0 + M)\n",
        "        mu_v = multivariate_normal(mu0_ast, inv((beta0 + M) * lam_v))\n",
        "        # sample U\n",
        "        for i in range(N):\n",
        "            V_VT_I = np.sum([np.outer(V[t_, :, j], V[t_, :, j].T)\n",
        "                             for j in R.getrow(i).nonzero()[1]], axis=0)\n",
        "            lam_ast_inv = inv(lam_u + alpha * V_VT_I)\n",
        "\n",
        "            V_R_I = np.sum([V[t_, :, j] * r for j, r in zip(R.getrow(i).nonzero()[1],\n",
        "                                                            R.getrow(i).data[0])], axis=0)\n",
        "            mu_ast = lam_ast_inv.dot((alpha * V_R_I + lam_u.dot(mu_u.T)).T)\n",
        "\n",
        "            U[t_ + 1, i, :] = multivariate_normal(mu_ast, lam_ast_inv)\n",
        "\n",
        "        # sample V\n",
        "        for j in range(M):\n",
        "            U_UT_I = np.sum([np.outer(U[t_ + 1, i, :], U[t_ + 1, i, :].T)\n",
        "                             for i in R.getcol(j).nonzero()[0]], axis=0)\n",
        "            lam_ast_inv = inv(lam_v + alpha * U_UT_I)\n",
        "\n",
        "            U_R_I = np.sum([U[t_ + 1, i, :] * r for i, r in zip(R.getcol(j).nonzero()[0],\n",
        "                                                                R.getcol(j).data)], axis=0)\n",
        "            mu_ast = lam_ast_inv.dot((alpha * U_R_I + lam_v.dot(mu_v.T)).T)\n",
        "\n",
        "            V[t_ + 1, :, j] = multivariate_normal(mu_ast, lam_ast_inv)\n",
        "\n",
        "    return U, V"
      ],
      "execution_count": 0,
      "outputs": []
    },
    {
      "cell_type": "code",
      "metadata": {
        "id": "oLKxoZN8YYsX",
        "colab_type": "code",
        "outputId": "4f880f04-1b42-48ef-fb22-1ddc82863a82",
        "colab": {
          "base_uri": "https://localhost:8080/",
          "height": 49,
          "referenced_widgets": [
            "dcfa0aa40be9418d9a93c29a3d8cd17d",
            "e9f591cc6821476480313fb83ad2f414",
            "fe7065c7db274ded9ee4edef8709b8f3",
            "05ec702d7a0d4fec85f49b32358bf479",
            "84ff863526a542078b5ef7f3b9328731",
            "10816ba640aa4f00b5e0ca8bf18dd771",
            "77f9783290594570af846ae963d1e43c",
            "be1f6c312a7743a7a6a1c072c7557593"
          ]
        }
      },
      "source": [
        "np.random.seed(1)\n",
        "n_sample=300\n",
        "U, V = bpmf_gibbs_sampling(r, D=5, n_sample=n_sample)\n",
        "\n",
        "burn_in = 100\n",
        "p = np.empty(r.shape)\n",
        "for u in range(r.shape[0]):\n",
        "    for i in range(r.shape[1]):\n",
        "        p[u, i] = np.mean(np.sum(U[burn_in:, u, :] * V[burn_in:, :, i], axis=1))"
      ],
      "execution_count": 203,
      "outputs": [
        {
          "output_type": "display_data",
          "data": {
            "application/vnd.jupyter.widget-view+json": {
              "model_id": "dcfa0aa40be9418d9a93c29a3d8cd17d",
              "version_minor": 0,
              "version_major": 2
            },
            "text/plain": [
              "HBox(children=(IntProgress(value=0, max=299), HTML(value='')))"
            ]
          },
          "metadata": {
            "tags": []
          }
        }
      ]
    },
    {
      "cell_type": "code",
      "metadata": {
        "id": "CbK_fNFB6-xk",
        "colab_type": "code",
        "colab": {
          "base_uri": "https://localhost:8080/",
          "height": 122
        },
        "outputId": "821ee0c1-d535-4bc1-f443-f5c5a9b520e4"
      },
      "source": [
        "print('予測データ')\n",
        "np.round(p,1)[:10,:10]"
      ],
      "execution_count": 209,
      "outputs": [
        {
          "output_type": "stream",
          "text": [
            "予測データ\n"
          ],
          "name": "stdout"
        },
        {
          "output_type": "execute_result",
          "data": {
            "text/plain": [
              "array([[6.7, 6.1, 6.1, 4.2, 4.7, 4.4],\n",
              "       [5.8, 5.2, 5.3, 3.8, 3.6, 3.8],\n",
              "       [2.9, 2.6, 2.7, 1.3, 1.2, 1.4],\n",
              "       [1.5, 2.2, 2. , 2.6, 2.9, 3.5],\n",
              "       [1.2, 1.8, 1.3, 2.1, 2.6, 2.8]])"
            ]
          },
          "metadata": {
            "tags": []
          },
          "execution_count": 209
        }
      ]
    },
    {
      "cell_type": "code",
      "metadata": {
        "id": "UjleRIJcZFIw",
        "colab_type": "code",
        "outputId": "634564ce-e0c5-4727-dae7-e05df5cb9ddd",
        "colab": {
          "base_uri": "https://localhost:8080/",
          "height": 122
        }
      },
      "source": [
        "print('元データ')\n",
        "pd.DataFrame(r_origin).pivot(0,1,2).values[:10,:10]#.astype(int)"
      ],
      "execution_count": 210,
      "outputs": [
        {
          "output_type": "stream",
          "text": [
            "元データ\n"
          ],
          "name": "stdout"
        },
        {
          "output_type": "execute_result",
          "data": {
            "text/plain": [
              "array([[ 7.,  6., nan,  4.,  5.,  4.],\n",
              "       [ 6., nan, nan,  4.,  3.,  4.],\n",
              "       [nan,  3.,  3.,  1.,  1., nan],\n",
              "       [ 1.,  2.,  2.,  3., nan,  4.],\n",
              "       [ 1., nan,  1., nan,  3.,  3.]])"
            ]
          },
          "metadata": {
            "tags": []
          },
          "execution_count": 210
        }
      ]
    },
    {
      "cell_type": "code",
      "metadata": {
        "id": "JazSY4Kb_jpi",
        "colab_type": "code",
        "colab": {
          "base_uri": "https://localhost:8080/",
          "height": 282
        },
        "outputId": "6fcd0b5c-3aeb-4497-c349-82ba9ef7be9e"
      },
      "source": [
        "# burn-inが適正かどうか\n",
        "y = np.sum(U[:, u, :] * V[:, :, i], axis=1)\n",
        "from matplotlib import pyplot as plt\n",
        "plt.plot(y[:])\n",
        "num=30#移動平均の個数\n",
        "b = np.ones(num)/num\n",
        "y2 = np.convolve(y, b, mode='valid')\n",
        "plt.plot(range(num, n_sample+1), y2)"
      ],
      "execution_count": 204,
      "outputs": [
        {
          "output_type": "execute_result",
          "data": {
            "text/plain": [
              "[<matplotlib.lines.Line2D at 0x7fd5de605748>]"
            ]
          },
          "metadata": {
            "tags": []
          },
          "execution_count": 204
        },
        {
          "output_type": "display_data",
          "data": {
            "image/png": "[encoded data removed]",
            "text/plain": [
              "<Figure size 432x288 with 1 Axes>"
            ]
          },
          "metadata": {
            "tags": []
          }
        }
      ]
    },
    {
      "cell_type": "code",
      "metadata": {
        "id": "SKuLgNX5YiSw",
        "colab_type": "code",
        "colab": {}
      },
      "source": [
        ""
      ],
      "execution_count": 0,
      "outputs": []
    },
    {
      "cell_type": "code",
      "metadata": {
        "id": "OGwpbgExYh7E",
        "colab_type": "code",
        "colab": {
          "base_uri": "https://localhost:8080/",
          "height": 49,
          "referenced_widgets": [
            "485020ede88a49ad9d255a94d2923ca4",
            "15462094945543aba2e589fa294e83d1",
            "851c8f2db75f45ccbae6a2bcd9889bdb",
            "a7e89331986949c6a53036056f0d948e",
            "bfe688f8ae4042058c65444576603a21",
            "5fb588fc50dd489483018ec9b4bbdb50",
            "0113d3708d894d8c85fe7555b135461f",
            "f32a0ba9e81a49a2bac64292e1c4be6b"
          ]
        },
        "outputId": "72f10bcb-c192-4676-e4a9-47af07b54b06"
      },
      "source": [
        "np.random.seed(1)\n",
        "n_sample=100\n",
        "U, V = bpmf_gibbs_sampling(r, D=5, n_sample=n_sample)\n",
        "\n",
        "burn_in = 30\n",
        "p = np.empty(r.shape)\n",
        "for u in range(r.shape[0]):\n",
        "    for i in range(r.shape[1]):\n",
        "        p[u, i] = np.mean(np.sum(U[burn_in:, u, :] * V[burn_in:, :, i], axis=1))"
      ],
      "execution_count": 218,
      "outputs": [
        {
          "output_type": "display_data",
          "data": {
            "application/vnd.jupyter.widget-view+json": {
              "model_id": "485020ede88a49ad9d255a94d2923ca4",
              "version_minor": 0,
              "version_major": 2
            },
            "text/plain": [
              "HBox(children=(IntProgress(value=0, max=99), HTML(value='')))"
            ]
          },
          "metadata": {
            "tags": []
          }
        }
      ]
    },
    {
      "cell_type": "code",
      "metadata": {
        "id": "8BmpOtamYjGC",
        "colab_type": "code",
        "colab": {
          "base_uri": "https://localhost:8080/",
          "height": 210
        },
        "outputId": "7ce29f60-4f36-4cb9-966d-7d9e4cf2f1c4"
      },
      "source": [
        "print('予測データ')\n",
        "np.round(p,1)[:10,:13]"
      ],
      "execution_count": 223,
      "outputs": [
        {
          "output_type": "stream",
          "text": [
            "予測データ\n"
          ],
          "name": "stdout"
        },
        {
          "output_type": "execute_result",
          "data": {
            "text/plain": [
              "array([[3.1, 3.8, 3. , 2.6, 3.7, 3.2, 4.2, 3.7, 4.1, 4.3, 3.8, 3.7, 4.4],\n",
              "       [3.1, 3.7, 2.9, 3.3, 4.1, 2.7, 4.6, 4.3, 3.7, 4.2, 3.8, 2.9, 4.7],\n",
              "       [3.1, 3.7, 2.7, 3. , 3.9, 3. , 4.5, 3.5, 4.6, 4.5, 3.6, 3.5, 4.7],\n",
              "       [2.4, 3.2, 1.8, 3.4, 3.3, 2.2, 3.8, 4.3, 3.2, 3.3, 3.3, 3.5, 3.9],\n",
              "       [3.5, 4.9, 3.5, 3.1, 4.2, 3.9, 4.8, 5.1, 4.6, 4.9, 5.1, 4.7, 5.2],\n",
              "       [2.7, 3.8, 2.7, 2.5, 3.1, 2.7, 3.7, 4.4, 2.8, 3.6, 4. , 2.6, 4.2],\n",
              "       [2.7, 3.3, 2.1, 2.8, 3.4, 2.8, 3.9, 3.1, 4.2, 4.1, 3.3, 3.6, 4.2],\n",
              "       [3.4, 4.1, 3.3, 3. , 4.2, 3.4, 4.8, 3.8, 4.9, 4.9, 4.2, 3.7, 5.1],\n",
              "       [3.3, 3.9, 3.2, 3.4, 4.3, 3. , 4.9, 4.2, 4.3, 4.5, 3.9, 3.3, 5. ],\n",
              "       [3.7, 4.9, 3.7, 3. , 4.3, 4.1, 4.9, 4.3, 5.4, 5.2, 5. , 4.9, 5.3]])"
            ]
          },
          "metadata": {
            "tags": []
          },
          "execution_count": 223
        }
      ]
    },
    {
      "cell_type": "code",
      "metadata": {
        "id": "8VThlQQEYlPP",
        "colab_type": "code",
        "colab": {
          "base_uri": "https://localhost:8080/",
          "height": 210
        },
        "outputId": "486609d0-d8d9-44a9-f5a9-9ac080d8b8b6"
      },
      "source": [
        "print('元データ')\n",
        "pd.DataFrame(r_origin).pivot(0,1,2).values[:10,:13]#.astype(int)"
      ],
      "execution_count": 224,
      "outputs": [
        {
          "output_type": "stream",
          "text": [
            "元データ\n"
          ],
          "name": "stdout"
        },
        {
          "output_type": "execute_result",
          "data": {
            "text/plain": [
              "array([[ 5.,  3.,  4.,  3.,  3.,  5.,  4.,  1.,  5.,  3.,  2.,  5.,  5.],\n",
              "       [ 4., nan, nan, nan, nan, nan, nan, nan, nan,  2., nan, nan,  4.],\n",
              "       [nan, nan, nan, nan, nan, nan, nan, nan, nan, nan, nan, nan, nan],\n",
              "       [nan, nan, nan, nan, nan, nan, nan, nan, nan, nan,  4., nan, nan],\n",
              "       [ 4.,  3., nan, nan, nan, nan, nan, nan, nan, nan, nan, nan, nan],\n",
              "       [ 4., nan, nan, nan, nan, nan,  2.,  4.,  4., nan, nan,  4.,  2.],\n",
              "       [nan, nan, nan,  5., nan, nan,  5.,  5.,  5.,  4.,  3.,  5., nan],\n",
              "       [nan, nan, nan, nan, nan, nan,  3., nan, nan, nan,  3., nan, nan],\n",
              "       [nan, nan, nan, nan, nan,  5.,  4., nan, nan, nan, nan, nan, nan],\n",
              "       [ 4., nan, nan,  4., nan, nan,  4., nan,  4., nan,  4.,  5.,  3.]])"
            ]
          },
          "metadata": {
            "tags": []
          },
          "execution_count": 224
        }
      ]
    },
    {
      "cell_type": "code",
      "metadata": {
        "id": "y0pxr3g8YmtF",
        "colab_type": "code",
        "colab": {}
      },
      "source": [
        ""
      ],
      "execution_count": 0,
      "outputs": []
    }
  ]
}