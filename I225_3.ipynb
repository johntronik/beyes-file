{
  "nbformat": 4,
  "nbformat_minor": 0,
  "metadata": {
    "colab": {
      "name": "I225#3.ipynb",
      "provenance": [],
      "collapsed_sections": [],
      "authorship_tag": "ABX9TyMkPljkD2AYqiTvcWCUfUnT",
      "include_colab_link": true
    },
    "kernelspec": {
      "name": "python3",
      "display_name": "Python 3"
    }
  },
  "cells": [
    {
      "cell_type": "markdown",
      "metadata": {
        "id": "view-in-github",
        "colab_type": "text"
      },
      "source": [
        "<a href=\"https://colab.research.google.com/github/johntronik/beyes-file/blob/master/I225_3.ipynb\" target=\"_parent\"><img src=\"https://colab.research.google.com/assets/colab-badge.svg\" alt=\"Open In Colab\"/></a>"
      ]
    },
    {
      "cell_type": "markdown",
      "metadata": {
        "id": "a4cjVg8Nv2uW",
        "colab_type": "text"
      },
      "source": [
        "#3-1\n",
        "次式の確率過程$Z(t)$の自己相関関数$R_{ZZ}(\\tau)$ならびにパワースペクトル$S_{ZZ}(\\omega)$を求めよ． \n",
        "$Z(t)=aX(t)+bY(t)$\n",
        "\n",
        "ただしaとbは定数であり，$X(t)$は$E\\{X(t)\\}=0$ と $R_{YY}(\\tau)=0$ となる定常な\n",
        "白色雑音， $Y(t)$ は $E\\{Y(t)\\}=0$ と $R_{YY}(\\tau)=\\exp(j\\tau)$ となる定常な雑音である．確率過程 $X(t)$ と $Y(t)$ は互いに独立であるとする "
      ]
    },
    {
      "cell_type": "markdown",
      "metadata": {
        "id": "PiVIVA1H7jKr",
        "colab_type": "text"
      },
      "source": [
        ""
      ]
    },
    {
      "cell_type": "markdown",
      "metadata": {
        "id": "DCyrBvkRxV76",
        "colab_type": "text"
      },
      "source": [
        "# 3-2\n",
        "次式のメモリーレスシステムを考える．\n",
        "$Y(t)=g[X(t)]=\\exp(\\beta X(t))$\n",
        "\n",
        "ただし，$\\beta$ は正定数（$\\beta>0$）である．入力 $X(t)$ に関する出力 $Y(t)$ の確率密度関数$f_Y(y,t)$ を導出せよ．なお，$X(t)$の確率密度関数は$f_Y(x,t)=t\\exp(-tx),(x\\geq0);0(x<0)$である． "
      ]
    },
    {
      "cell_type": "markdown",
      "metadata": {
        "id": "bX4Mml5AyyNU",
        "colab_type": "text"
      },
      "source": [
        "#3-3\n",
        "次式の微分器について検討せよ\n",
        "$Y(t)=L[X(t)]=X'(t)$\n",
        "\n",
        "入力$X(t)$に関する出力$Y(t)$の自己相関関数$R_{YY}(\\tau)$を求めよ. なお,$X(t)$の自己相関関数は$R_{XX}(\\tau)=cos\\beta\\tau$で与えられるものとする."
      ]
    },
    {
      "cell_type": "markdown",
      "metadata": {
        "id": "5N3Sq5EmzoZ6",
        "colab_type": "text"
      },
      "source": [
        "#3-4\n",
        "雑音の入力$X(t)$をもつ、次式の線形微分方程式\n",
        "$Y''(t)+2Y'(t)-3Y(T)=X(T)$\n",
        "に関して, 自己相関関数$R_{YY}(\\tau)$とそのパワースペクトル$S_{YY}(\\omega)$を求めよ. ここで入力$X(t)$は$E\\{X(t)\\}=0$ と $R_{XX}(\\tau)=48\\delta(\\tau)$をもつ白色雑音とする."
      ]
    },
    {
      "cell_type": "code",
      "metadata": {
        "id": "BcKnEGeAxTLX",
        "colab_type": "code",
        "colab": {}
      },
      "source": [
        ""
      ],
      "execution_count": null,
      "outputs": []
    },
    {
      "cell_type": "markdown",
      "metadata": {
        "id": "C0LJoXfK1RPY",
        "colab_type": "text"
      },
      "source": [
        "# 4-1\n",
        "観測データ$\\{X[0],X[1],...,X[N-1]\\}$は,互いに独立で正規分布$N(0,\\sigma^2)$にしたがうものとする. 次式のように未知の分散$\\sigma^2$を推定せよ.\n",
        "$\\hat{\\sigma}^2=\\frac{1}{N}\\sum^{N-1}_{n=0}X^2[n]$\n",
        "この推定が不偏かどうか判定せよ.さらに極限$N\\to\\infty$における$\\hat\\sigma^2$の性質を検討せよ."
      ]
    },
    {
      "cell_type": "markdown",
      "metadata": {
        "id": "VF9IYLdM264u",
        "colab_type": "text"
      },
      "source": [
        "#4-2\n",
        "観測データ$\\{X[0],X[1],...,X[N-1]\\}$は,互いに独立で一様分布$U(0,\\theta),0<\\theta<\\infty$に従うものとする. 未知パラメータ$\\theta$の不偏推定を求めよ. また, それが不偏推定となることを示せ."
      ]
    },
    {
      "cell_type": "markdown",
      "metadata": {
        "id": "8cRrKCO-3ZZ_",
        "colab_type": "text"
      },
      "source": [
        "#4-3\n",
        "次の観測データについて考える.\n",
        "$X[n]=Ar^n+W[n](n=0,1,...,N-1)$\n",
        "ここで, $W[n]$は互いに独立で, 正規分布$N(0,\\sigma^2)$に従うものとする.rは既知の定数である. 未知パラメータ$A$を推定するために,Cramer-Raoの下限(CRLB)を求め, Aのための適切な推定気を導出せよ."
      ]
    },
    {
      "cell_type": "markdown",
      "metadata": {
        "id": "SBIIOpLz4CmX",
        "colab_type": "text"
      },
      "source": [
        "#4-4\n",
        "観測データ$\\{X[0],X[1],...,X[N-1]\\}$は,互いに独立で指数分布$E_x(\\lambda)$に従うものとする.未知パラメータ\\lambda\\の最大尤度推定を求めよ 注)指数分布は\n",
        "$p(x;\\lambda)=\\lambda\\exp(-\\lambda x)(x\\geq0);0(x<0)$の確率密度関数を持つものとする."
      ]
    },
    {
      "cell_type": "markdown",
      "metadata": {
        "id": "LATbGKVN4Cg4",
        "colab_type": "text"
      },
      "source": [
        "#4-5\n",
        "Xは一様分布$X~U[-\\frac{1}{N},\\frac{1}{N}]$に従う確率変数とする. 次式を利用して, 変数$\\theta=cos2\\pi X$を推定することを考える. $\\hat\\theta=aX^2+b$\n",
        "(1) 次の期待値を求めよ$E[X^2],E[X^4],E[\\theta],E[\\theta^2],E[\\theta X^2]$\n",
        "\n",
        "(2) 線形最小平均二乗誤差(LMMSE)推定に基づいてaとbのパラメータ値を導出せよ.\n",
        "\n",
        "(3) (2)でえられたaとbのパラメータ値に対応する最小二乗誤差Bmseを求めよ."
      ]
    },
    {
      "cell_type": "markdown",
      "metadata": {
        "id": "UOe5vEZ86K9O",
        "colab_type": "text"
      },
      "source": [
        "#4-6\n",
        "次式に示す,現在の状態S(t)とT周期前の状態$S(t-T)$を利用して, 定常過程における$\\lambda$周期後の状態$S(t+\\lambda)$を推定せよ.\n",
        "$\\hat S(t+\\lambda)=aS(t)+bS(t-T)$\n",
        "aとbの最適なパラメータ値を導出せよ\n",
        "注) $R_{SS}(\\tau)=\\exp(-\\frac{|\\tau|}{T}), 0<\\lambda<T$"
      ]
    },
    {
      "cell_type": "code",
      "metadata": {
        "id": "PZvLgJwn250R",
        "colab_type": "code",
        "colab": {}
      },
      "source": [
        ""
      ],
      "execution_count": null,
      "outputs": []
    }
  ]
}