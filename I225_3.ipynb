{
  "nbformat": 4,
  "nbformat_minor": 0,
  "metadata": {
    "colab": {
      "name": "I225#3.ipynb",
      "provenance": [],
      "collapsed_sections": [],
      "include_colab_link": true
    },
    "kernelspec": {
      "name": "python3",
      "display_name": "Python 3"
    }
  },
  "cells": [
    {
      "cell_type": "markdown",
      "metadata": {
        "id": "view-in-github",
        "colab_type": "text"
      },
      "source": [
        "<a href=\"https://colab.research.google.com/github/johntronik/beyes-file/blob/master/I225_3.ipynb\" target=\"_parent\"><img src=\"https://colab.research.google.com/assets/colab-badge.svg\" alt=\"Open In Colab\"/></a>"
      ]
    },
    {
      "cell_type": "markdown",
      "metadata": {
        "id": "a4cjVg8Nv2uW",
        "colab_type": "text"
      },
      "source": [
        "#3-1\n",
        "次式の確率過程$Z(t)$の自己相関関数$R_{ZZ}(\\tau)$ならびにパワースペクトル$S_{ZZ}(\\omega)$を求めよ． \n",
        "$Z(t)=aX(t)+bY(t)$\n",
        "\n",
        "ただしaとbは定数であり，$X(t)$は$E\\{X(t)\\}=0$ と $R_{XX}(\\tau)=q\\delta(\\tau)$ となる定常な\n",
        "白色雑音， $Y(t)$ は $E\\{Y(t)\\}=0$ と $R_{YY}(\\tau)=\\exp(j\\tau)$ となる定常な雑音である．確率過程 $X(t)$ と $Y(t)$ は互いに独立であるとする \n",
        "\n",
        "---"
      ]
    },
    {
      "cell_type": "markdown",
      "metadata": {
        "id": "PiVIVA1H7jKr",
        "colab_type": "text"
      },
      "source": [
        "\n",
        "$\\begin{eqnarray}\n",
        "R_{ZZ}(\\tau)&=&E\\{Z(t+\\tau)Z^*(t)\\}\\\\\n",
        "&=&a^2R_{XX}(\\tau)+b^2R_{YY}(\\tau)+ab^*R_{XY}(\\tau)+ba^*R_{YX}(\\tau)\\\\\n",
        "&=&a^2R_{XX}(\\tau)+b^2R_{YY}(\\tau)\\\\\n",
        "&=&a^2q\\delta(\\tau)+b^2\\exp(j\\tau)\\\\\n",
        "\\\\\n",
        "S_{ZZ}(\\omega)&=&a^2q+b^22\\pi\\delta(\\omega-1)\\\\\n",
        "\\end{eqnarray}$"
      ]
    },
    {
      "cell_type": "markdown",
      "metadata": {
        "id": "DCyrBvkRxV76",
        "colab_type": "text"
      },
      "source": [
        "# 3-2\n",
        "次式のメモリーレスシステムを考える．\n",
        "$Y(t)=g[X(t)]=\\exp(\\beta X(t))$\n",
        "\n",
        "ただし，$\\beta$ は正定数（$\\beta>0$）である．入力 $X(t)$ に関する出力 $Y(t)$ の確率密度関数$f_Y(y,t)$ を導出せよ．なお，$X(t)$の確率密度関数は$f_Y(x,t)=t\\exp(-tx),(x\\geq0);0(x<0)$である． \n",
        "\n",
        "---"
      ]
    },
    {
      "cell_type": "markdown",
      "metadata": {
        "id": "qNwdjF2CQWSu",
        "colab_type": "text"
      },
      "source": [
        "$f_Y(y,t)=0,(y<1)$\n",
        "\n",
        "$y=\\exp(\\beta x)$\n",
        "\n",
        "$x=\\frac{\\log y}{\\beta}$\n",
        "\n",
        "$J=\\frac{dy}{dx}=\\beta\\exp(\\beta x)$\n",
        "\n",
        "$\\begin{eqnarray}\n",
        "f_Y(y,t)&=&\\frac{1}{|J|}f_X(\\frac{\\log y}{\\beta},t)\\\\\n",
        "&=&\\frac{1}{\\beta y}\\exp(-\\frac{t}{\\beta}\\log y)\\\\\n",
        "&=&\\frac{y}{\\beta y}\\exp(-\\frac{t}{\\beta})\\\\\n",
        "\\end{eqnarray}$"
      ]
    },
    {
      "cell_type": "markdown",
      "metadata": {
        "id": "bX4Mml5AyyNU",
        "colab_type": "text"
      },
      "source": [
        "#3-3\n",
        "次式の微分器について検討せよ\n",
        "$Y(t)=L[X(t)]=X'(t)$\n",
        "\n",
        "入力$X(t)$に関する出力$Y(t)$の自己相関関数$R_{YY}(\\tau)$を求めよ. なお,$X(t)$の自己相関関数は$R_{XX}(\\tau)=cos\\beta\\tau$で与えられるものとする.\n",
        "\n",
        "---"
      ]
    },
    {
      "cell_type": "markdown",
      "metadata": {
        "id": "BMVNVHGLUwE7",
        "colab_type": "text"
      },
      "source": [
        "$R_{YY}(\\tau)=-\\frac{d^2}{d\\tau^2}cos\\beta\\tau=\\beta^2\\cos\\beta\\tau$\n",
        "\n",
        "$S_{YY}(\\omega)=\\beta^2\\pi\\{\\delta(\\omega-\\beta)+\\delta(\\omega+\\beta)\\}$"
      ]
    },
    {
      "cell_type": "markdown",
      "metadata": {
        "id": "5N3Sq5EmzoZ6",
        "colab_type": "text"
      },
      "source": [
        "#3-4\n",
        "雑音の入力$X(t)$をもつ、次式の線形微分方程式\n",
        "$Y''(t)+2Y'(t)-3Y(T)=X(T)$\n",
        "に関して, 自己相関関数$R_{YY}(\\tau)$とそのパワースペクトル$S_{YY}(\\omega)$を求めよ. ここで入力$X(t)$は$E\\{X(t)\\}=0$ と $R_{XX}(\\tau)=48\\delta(\\tau)$をもつ白色雑音とする.\n",
        "\n",
        "---"
      ]
    },
    {
      "cell_type": "markdown",
      "metadata": {
        "id": "vxKkjatzVm48",
        "colab_type": "text"
      },
      "source": [
        "$R_{XY''}(\\tau)+2R_{XY'}(\\tau)-3R_{XY}(\\tau)=48\\delta(\\tau)$\n",
        "\n",
        "$R_{Y''Y}(\\tau)+2R_{Y'Y}(\\tau)-3R_{YY}(\\tau)=R_{XY}(\\tau)$\n",
        "\n",
        "$\\begin{eqnarray}\n",
        "S_{YY}(\\omega)&=&\\frac{48}{(-\\omega^2-2j\\omega-3)(-\\omega^2+2j\\omega-3)}\\\\\n",
        "&=&\\frac{6}{1+\\omega^2}-\\frac{6}{9+\\omega^2}\\\\\n",
        "\\end{eqnarray}$\n",
        "\n",
        "$R_{YY}(\\tau)=3e^{-|\\tau|}-e^{-3|\\tau|}$"
      ]
    },
    {
      "cell_type": "markdown",
      "metadata": {
        "id": "C0LJoXfK1RPY",
        "colab_type": "text"
      },
      "source": [
        "# 4-1\n",
        "観測データ$\\{X[0],X[1],...,X[N-1]\\}$は,互いに独立で正規分布$N(0,\\sigma^2)$にしたがうものとする. 次式のように未知の分散$\\sigma^2$を推定せよ.\n",
        "$\\hat{\\sigma}^2=\\frac{1}{N}\\sum^{N-1}_{n=0}X^2[n]$\n",
        "この推定が不偏かどうか判定せよ.さらに極限$N\\to\\infty$における$\\hat\\sigma^2$の性質を検討せよ.\n",
        "\n",
        "---"
      ]
    },
    {
      "cell_type": "markdown",
      "metadata": {
        "id": "f5DDWgtlfg6B",
        "colab_type": "text"
      },
      "source": [
        "$E[\\hat\\sigma^2]=E(\\frac{1}{N}\\sum^{N-1}_{n=0}X^2[n])=\\frac{1}{N}\\sum^{N-1}_{n=0}E(X^2[n])=\\sigma^2$\n",
        "\n",
        "$E[\\hat\\sigma^2]-\\sigma^2=0$より、この推定は不偏。\n",
        "\n",
        "$\\begin{eqnarray}\n",
        "Var(\\hat\\sigma^2)&&\\frac{1}{N^2}Var(\\sum^{N-1}_{n=0}X^2[n])\\\\\n",
        "&=&\\frac{1}{N^2}N\\sum^{N-1}_{n=0}Var(X^2[n])\\\\\n",
        "&=&\\frac{1}{N}Var(X^2[n])\\\\\n",
        "&=&\\frac{1}{N}(E(X^4[n])-E^2(X^2[n]))\\\\\n",
        "&=&\\frac{1}{N}(3\\sigma^4-\\sigma^4)\\\\\n",
        "&=&\\frac{2\\sigma^4}{N}\\\\\n",
        "\\end{eqnarray}$\n",
        "\n",
        "$N\\to\\infty$のとき$Var(\\hat\\sigma^2)=0$\n"
      ]
    },
    {
      "cell_type": "markdown",
      "metadata": {
        "id": "VF9IYLdM264u",
        "colab_type": "text"
      },
      "source": [
        "#4-2\n",
        "観測データ$\\{X[0],X[1],...,X[N-1]\\}$は,互いに独立で一様分布$U(0,\\theta),0<\\theta<\\infty$に従うものとする. 未知パラメータ$\\theta$の不偏推定を求めよ. また, それが不偏推定となることを示せ.\n",
        "\n",
        "---"
      ]
    },
    {
      "cell_type": "markdown",
      "metadata": {
        "id": "zeWIGiE1g3z1",
        "colab_type": "text"
      },
      "source": [
        "$\\begin{eqnarray}\n",
        "E(\\hat\\theta)&=&E(\\frac{2}{N}\\sum^{N-1}_{n=0}X[n])\\\\\n",
        "&=&\\frac{2}{N}\\sum^{N-1}_{n=0}E(X[n])\\\\\n",
        "&=&\\frac{2}{N}\\frac{N\\theta}{2}\\\\\n",
        "&=&\\theta\\\\\n",
        "\\end{eqnarray}$\n",
        "\n",
        "$E(\\hat\\theta)-\\theta=0$より$\\theta$は不偏推定"
      ]
    },
    {
      "cell_type": "markdown",
      "metadata": {
        "id": "8cRrKCO-3ZZ_",
        "colab_type": "text"
      },
      "source": [
        "#4-3\n",
        "次の観測データについて考える.\n",
        "$X[n]=Ar^n+W[n](n=0,1,...,N-1)$\n",
        "ここで, $W[n]$は互いに独立で, 正規分布$N(0,\\sigma^2)$に従うものとする.rは既知の定数である. 未知パラメータ$A$を推定するために,Cramer-Raoの下限(CRLB)を求め, Aのための適切な推定気を導出せよ.\n",
        "\n",
        "---"
      ]
    },
    {
      "cell_type": "markdown",
      "metadata": {
        "id": "GaTnnoQGlz5j",
        "colab_type": "text"
      },
      "source": [
        "$W[n]\\sim N(Ar^n,\\sigma^2)$\n",
        "\n",
        "$p(x;A)=\\prod^{N-1}_{n=0}\\frac{1}{\\sqrt{2\\pi\\sigma^2}}\\exp(-\\frac{1}{2\\sigma^2}(x[n]-Ar^n)^2)$\n",
        "\n",
        "$\\ln p(x;A)=-\\frac{2}{N}\\ln(2\\pi\\sigma^2)-\\sum^{N-1}_{n=0}\\frac{1}{2\\sigma^2}(x[n]-Ar^n)^2$\n",
        "\n",
        "$\\frac{d}{dA}\\ln p(x;A)=\\sum^{N-1}_{n=0}\\frac{1}{\\sigma^2}(x[n]-Ar^n)r^n$\n",
        "\n",
        "$E(\\frac{d}{dA}\\ln p(x;A))=\\sum^{N-1}_{n=0}\\frac{1}{\\sigma^2}(E(x[n])-Ar^n)r^n=0$\n",
        "\n",
        "$\\begin{eqnarray}\n",
        "\\frac{d^2}{dA^2}\\ln p(x;A)&=&\\sum^{N-1}_{n=0}\\frac{1}{\\sigma^2}(-r^nr^n)\\\\\n",
        "&=&-\\frac{1}{\\sigma^2}\\sum^{N-1}_{n=0}r^{2n}\\\\\n",
        "\\end{eqnarray}$\n",
        "\n",
        "$I(A)=-E\\{\\frac{d^2}{dA^2}\\ln p(x;A)\\}=\\frac{1}{\\sigma^2}\\sum^{N-1}_{n=0}r^{2n}$\n",
        "\n",
        "$Var(\\hat A) \\ge \\frac{1}{I(A)}=\\frac{\\sigma^2}{\\sum^{N-1}_{n=0}r^{2n}}$\n",
        "\n",
        "$\\frac{d}{dA}\\ln p(x;A)=I(A)(\\frac{\\sum^{N-1}_{n=0}r^nx[n]}{\\sum^{N-1}_{n=0}r^{2n}}-A)$\n",
        "\n",
        "$A=\\frac{\\sum^{N-1}_{n=0}r^nx[n]}{\\sum^{N-1}_{n=0}r^{2n}}$"
      ]
    },
    {
      "cell_type": "markdown",
      "metadata": {
        "id": "SBIIOpLz4CmX",
        "colab_type": "text"
      },
      "source": [
        "#4-4\n",
        "観測データ$\\{X[0],X[1],...,X[N-1]\\}$は,互いに独立で指数分布$E_x(\\lambda)$に従うものとする.未知パラメータ$\\lambda$の最大尤度推定を求めよ \n",
        "\n",
        "注)指数分布は\n",
        "$p(x;\\lambda)=\\lambda\\exp(-\\lambda x)(x\\geq0);0(x<0)$の確率密度関数を持つものとする.\n",
        "\n",
        "---"
      ]
    },
    {
      "cell_type": "markdown",
      "metadata": {
        "id": "5Bbn9XKaz_W6",
        "colab_type": "text"
      },
      "source": [
        "$\\bar x=\\frac{1}{N}\\sum^{N-1}_{n=0}x[n]$\n",
        "\n",
        "$p(x;\\lambda)=\\lambda^N\\exp(-\\lambda N\\bar x)$\n",
        "\n",
        "$\\ln p(x;\\lambda)=N\\ln\\lambda-\\lambda N\\bar x$\n",
        "\n",
        "$\\frac{d}{d\\lambda}\\ln p(x;\\lambda)=\\frac{N}{\\lambda}-N\\bar x=0$\n",
        "\n",
        "$\\hat\\lambda=\\frac{1}{\\bar x}=\\frac{1}{\\frac{1}{N}\\sum^{N-1}_{n=0}x[n]}$\n",
        "\n",
        "$\\frac{d^2}{d\\lambda^2}\\ln p(x;\\lambda)=-\\frac{N}{\\lambda^2}<0$より、$\\hat\\lambda$は上に凸で、極大値をもつ。\n"
      ]
    },
    {
      "cell_type": "markdown",
      "metadata": {
        "id": "LATbGKVN4Cg4",
        "colab_type": "text"
      },
      "source": [
        "#4-5\n",
        "Xは一様分布$X~U[-\\frac{1}{N},\\frac{1}{N}]$に従う確率変数とする. 次式を利用して, 変数$\\theta=cos2\\pi X$を推定することを考える. $\\hat\\theta=aX^2+b$\n",
        "\n",
        "(1) 次の期待値を求めよ$E[X^2],E[X^4],E[\\theta],E[\\theta^2],E[\\theta X^2]$\n",
        "\n",
        "(2) 線形最小平均二乗誤差(LMMSE)推定に基づいてaとbのパラメータ値を導出せよ.\n",
        "\n",
        "(3) (2)でえられたaとbのパラメータ値に対応する最小二乗誤差Bmseを求めよ.\n",
        "\n",
        "---"
      ]
    },
    {
      "cell_type": "markdown",
      "metadata": {
        "id": "wiqMxOf09i8n",
        "colab_type": "text"
      },
      "source": [
        "(1)\n",
        "\n",
        "$\\begin{eqnarray}\n",
        "E[X^2]&=&\\int^\\infty_{-\\infty}x^2f_x(x)dx\\\\\n",
        "&=&\\int^{1/2}_{-1/2}x^2dx\\\\\n",
        "&=&[\\frac13x^3]^{1/2}_{-1/2}\\\\\n",
        "&=&\\frac{1}{24}+\\frac{1}{24}=\\frac{1}{12}\n",
        "\\end{eqnarray}$\n",
        "\n",
        "$\\begin{eqnarray}\n",
        "E[X^4]&=&\\int^\\infty_{-\\infty}x^4f_x(x)dx\\\\\n",
        "&=&\\int^{1/2}_{-1/2}x^4dx\\\\\n",
        "&=&[\\frac15x^5]^{1/2}_{-1/2}\\\\\n",
        "&=&\\frac{1}{160}+\\frac{1}{160}=\\frac{1}{80}\n",
        "\\end{eqnarray}$\n",
        "\n",
        "$\\begin{eqnarray}\n",
        "E[\\theta]&=&\\int^\\infty_{-\\infty}\\theta f_x(x)dx\\\\\n",
        "&=&\\int^{1/2}_{-1/2}\\cos2\\pi xdx\\\\\n",
        "&=&[\\frac{1}{2\\pi}\\sin2\\pi x]^{1/2}_{-1/2}\\\\\n",
        "&=&\\frac{1}{2\\pi}\\sin\\pi+\\frac{1}{2\\pi}\\sin(-\\pi)=0\\\\\n",
        "\\end{eqnarray}$\n",
        "\n",
        "$\\begin{eqnarray}\n",
        "E[\\theta^2]&=&\\int^\\infty_{-\\infty}\\theta^2 f_x(x)dx\\\\\n",
        "&=&\\int^{1/2}_{-1/2}\\cos^22\\pi xdx\\\\\n",
        "&=&\\int^{1/2}_{-1/2}\\frac12(\\cos2\\pi x+1)dx\\\\\n",
        "&=&[\\frac{1}{4\\pi}\\sin2\\pi x+\\frac12x]^{1/2}_{-1/2}\\\\\n",
        "&=&(\\frac{1}{4\\pi}\\sin\\pi+\\frac14)-(-\\frac{1}{4\\pi}\\sin(-\\pi)-\\frac14)=\\frac12\\\\\n",
        "\\end{eqnarray}$\n",
        "\n",
        "$\\begin{eqnarray}\n",
        "E[\\theta X^2]&=&\\int^\\infty_{-\\infty}\\theta x^2f_x(x)dx\\\\\n",
        "&=&\\int^{1/2}_{-1/2}\\cos(2\\pi x) x^2dx\\\\\n",
        "&=&[\\frac{1}{2\\pi}\\sin(2\\pi x)x^2]^{1/2}_{-1/2}-\\int^{1/2}_{-1/2}\\frac1{2\\pi}\\sin(2\\pi x) 2xdx\\\\\n",
        "&=&0-([-\\frac{1}{4\\pi^2}\\cos(2\\pi x)x]^{1/2}_{-1/2}-\\int^{1/2}_{-1/2}-\\frac{1}{2\\pi^2}\\cos(2\\pi x) dx)\\\\\n",
        "&=&-\\frac1{2\\pi^2}-[\\frac{1}{4\\pi^3}\\sin(2\\pi x)]^{1/2}_{-1/2}\\\\\n",
        "&=&-\\frac1{2\\pi^2}\n",
        "\\end{eqnarray}$"
      ]
    },
    {
      "cell_type": "markdown",
      "metadata": {
        "id": "yZjnBZpR5BUt",
        "colab_type": "text"
      },
      "source": [
        "(2)\n",
        "\n",
        "$a=-90/\\pi^2, b=\\frac{15}{2\\pi^2}$"
      ]
    },
    {
      "cell_type": "markdown",
      "metadata": {
        "id": "Pa7ALXWcMnok",
        "colab_type": "text"
      },
      "source": [
        "$E[\\theta X^2]=aE[X^4]+bE[X^2]$\n",
        "\n",
        "$-\\frac1{2\\pi^2}=a\\frac{1}{80}+b\\frac{1}{12}$\n",
        "\n",
        "$E[\\theta]=aE[X^2]+b$\n",
        "\n",
        "$0=a\\frac{1}{12}+b$\n",
        "\n",
        "とくと、$a=-\\frac{90}{\\pi^2}, b=\\frac{15}{2\\pi^2}$"
      ]
    },
    {
      "cell_type": "markdown",
      "metadata": {
        "id": "O9UkIVJ3CaZk",
        "colab_type": "text"
      },
      "source": [
        "(3)\n",
        "\n",
        "$\\begin{eqnarray}\n",
        "Bmse(\\hat\\theta)&=&E[\\theta^2]-aE[\\theta X^2]-bE[\\theta]\\\\\n",
        "&=&\\frac12-\\frac{90}{\\pi^2}(-\\frac1{2\\pi^2})-\\frac{15}{2\\pi^2}\\cdot 0\\\\\n",
        "&=&\\frac12+\\frac{90}{2\\pi^4}\\\\\n",
        "\\end{eqnarray}$"
      ]
    },
    {
      "cell_type": "markdown",
      "metadata": {
        "id": "UOe5vEZ86K9O",
        "colab_type": "text"
      },
      "source": [
        "#4-6\n",
        "次式に示す,現在の状態S(t)とT周期前の状態$S(t-T)$を利用して, 定常過程における$\\lambda$周期後の状態$S(t+\\lambda)$を推定せよ.\n",
        "\n",
        "$\\hat S(t+\\lambda)=aS(t)+bS(t-T)$\n",
        "\n",
        "aとbの最適なパラメータ値を導出せよ\n",
        "\n",
        "注) $R_{SS}(\\tau)=\\exp(-\\frac{|\\tau|}{T}), 0<\\lambda<T$\n",
        "\n",
        "---"
      ]
    },
    {
      "cell_type": "markdown",
      "metadata": {
        "id": "7oJsvQNUCsbv",
        "colab_type": "text"
      },
      "source": [
        "$E[(S(t+\\lambda)-\\hat S(t+\\lambda))S(t-T)]=0$\n",
        "\n",
        "$E[(S(t+\\lambda)-aS(t)-bS(t-T))S(t-T)]=0$\n",
        "\n",
        "$E[S(t+\\lambda)S(t-T)]-aE[S(t)S(t-T)]-bE[S(t-T)S(t-T)]=0$\n",
        "\n",
        "$R(\\lambda+T)-aR(T)-bR(-0)=0$\n",
        "\n",
        "$\\exp(-\\frac{\\lambda+T}T)-ae^{-1}-b=0$\n",
        "\n",
        "とくと、$a=\\exp(-\\frac\\lambda T),b=0$\n",
        "\n",
        "よって$\\hat S(t+\\lambda)=\\exp(-\\frac\\lambda T)S(t)$"
      ]
    },
    {
      "cell_type": "code",
      "metadata": {
        "id": "1QM20ldwUhdt",
        "colab_type": "code",
        "colab": {}
      },
      "source": [
        ""
      ],
      "execution_count": null,
      "outputs": []
    },
    {
      "cell_type": "markdown",
      "metadata": {
        "id": "Ap2toYuSRAla",
        "colab_type": "text"
      },
      "source": [
        "(6)\n",
        "\n",
        "確率$\\frac12$でsの値を持ち、確率$-\\frac12$で-sをもつ確率変数Xを考える. ただし、sは正の定数である. Xの特性関数は$\\varphi(t)=\\frac12(e^{jt}+e^{-jst})$で表されるものとする. ここで、確率変数Xと同じ分布関数を持つnこの独立な確率変数$X_1,X_2,\\cdots,X_n$を利用して、新しい確率変数$S=X_1+X_2+\\cdots+X_n$を定義する. 次の設問に答えよ.\n"
      ]
    },
    {
      "cell_type": "markdown",
      "metadata": {
        "id": "y1unN7sgS653",
        "colab_type": "text"
      },
      "source": [
        "(1)\n",
        "\n",
        "$\\varphi_S(t)=\\varphi(t)^n=(\\frac12(e^{jt}+e^{-jst}))^n$\n",
        "\n",
        "(2)\n",
        "\n",
        "$E(S)=\\frac{\\varphi_S'(0)}j=0$\n",
        "\n",
        "\n",
        "$\\begin{eqnarray}\n",
        "V(S)&=&\\frac{\\varphi_S''(0)}{j^2}-(\\frac{\\varphi_S'(0)}j)^2\\\\\n",
        "&=&\\frac{\\varphi_S''(0)}{j^2}\\\\\n",
        "&=&\\frac{-ns^2}{j^2}\\\\\n",
        "&=&ns^2\n",
        "\\end{eqnarray}$\n",
        "\n"
      ]
    }
  ]
}